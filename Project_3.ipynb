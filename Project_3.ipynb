{
  "nbformat": 4,
  "nbformat_minor": 0,
  "metadata": {
    "colab": {
      "provenance": []
    },
    "kernelspec": {
      "name": "ir",
      "display_name": "R"
    },
    "language_info": {
      "name": "R"
    }
  },
  "cells": [
    {
      "cell_type": "markdown",
      "source": [
        "#Overview\n",
        "\n",
        "This Juptyer notebook details the data analysis conducted on World Happiness Reports from 2015 - 2019. The primary purpose of this notebook is to report on how data was cleaned and prepared for analysis.\n",
        "\n",
        "Analysis consisted of several multiple regressions to identify which variables within World Happiness Reports are accounting for variations in happiness scores both overall and by region."
      ],
      "metadata": {
        "id": "gZHTpa-iFElo"
      }
    },
    {
      "cell_type": "markdown",
      "source": [
        "#Loading Data\n"
      ],
      "metadata": {
        "id": "HHfC-C-CbONR"
      }
    },
    {
      "cell_type": "markdown",
      "source": [
        "Our data ended up being relatively clean. The biggest obstacle was identifying the common columns across all the datasets and identifying if any countries had missing data and if they should be excluded from analysis.\n",
        "\n",
        "The common columns across all years reports were:\n",
        "* Happiness Rank\n",
        "* Country\n",
        "* Happiness Score\n",
        "* GDP per capita\n",
        "* Social Support\n",
        "* Health (in terms of life expectancy)\n",
        "* Freedom (in terms of making life choices)\n",
        "* Generosity\n",
        "* Trust (perceptions of government corruption)\n",
        "\n",
        "I added the \"year\" column in order to differentiate between reports.\n",
        "\n",
        "In terms of excluding countries, there were 8 countries that weren't included in analysis because they were missing several years worth of data. These included:\n",
        "* Djibouti (only included 2015)\n",
        "* Gambia (only included 2019)\n",
        "* North Macedonia (only included 2019)\n",
        "* Oman (only included 2015)\n",
        "* Puerto Rico (only included 2016)\n",
        "* Somaliland Region (only 2015 - 2016)\n",
        "* Suriname (only 2015 - 2016)\n",
        "* Swailand (only 2015 & 2019)\n",
        "\n",
        "A `region` column has also been added as a way to aggregate the ~150 countries"
      ],
      "metadata": {
        "id": "cJ6UBXpBm4eq"
      }
    },
    {
      "cell_type": "code",
      "source": [
        "#Used the 'googledrive' package because R was not liking my csv file when I used the \"read.csv\" function\n",
        "install.packages(\"googledrive\")\n",
        "\n",
        "library(googledrive)\n",
        "drive_auth()\n",
        "\n",
        "world_happiness_report <- drive_find(pattern = \"Happiness\")\n",
        "world_happiness_report <- drive_get(as_id(world_happiness_report$id[1]))\n",
        "drive_download(world_happiness_report, path = \"World Happiness Report FULL (w. regions).csv\", overwrite = TRUE)"
      ],
      "metadata": {
        "id": "QnospsHczohZ",
        "colab": {
          "base_uri": "https://localhost:8080/"
        },
        "collapsed": true,
        "outputId": "6c4a5369-a99b-4e05-e71d-5440a78eda57"
      },
      "execution_count": null,
      "outputs": [
        {
          "output_type": "stream",
          "name": "stderr",
          "text": [
            "Installing package into ‘/usr/local/lib/R/site-library’\n",
            "(as ‘lib’ is unspecified)\n",
            "\n",
            "\u001b[1m\u001b[22mIs it OK to cache OAuth access credentials in the folder \u001b[34m~/.cache/gargle\u001b[39m\n",
            "between R sessions?\n",
            "\u001b[1m1\u001b[22m: Yes\n",
            "\u001b[1m2\u001b[22m: No\n"
          ]
        },
        {
          "name": "stdout",
          "output_type": "stream",
          "text": [
            "Selection: 1\n"
          ]
        },
        {
          "output_type": "stream",
          "name": "stderr",
          "text": [
            "Please point your browser to the following url: \n",
            "\n",
            "https://accounts.google.com/o/oauth2/v2/auth?client_id=603366585132-frjlouoa3s2ono25d2l9ukvhlsrlnr7k.apps.googleusercontent.com&scope=https%3A%2F%2Fwww.googleapis.com%2Fauth%2Fdrive%20https%3A%2F%2Fwww.googleapis.com%2Fauth%2Fuserinfo.email&redirect_uri=https%3A%2F%2Fwww.tidyverse.org%2Fgoogle-callback%2F&response_type=code&state=edb94cbde764b237338fb00ac5cb465e&access_type=offline&prompt=consent\n",
            "\n"
          ]
        },
        {
          "name": "stdout",
          "output_type": "stream",
          "text": [
            "Enter authorization code: eyJjb2RlIjoiNC8wQWVhblMwYXFqc0Y3Nk0tb0g3STFJTlNrN0d0ejNMeGpjTUdTaV9FdGpmOTlUcGV4Z0pNLVBDSnpkTDFrYlJVUEVPQ0YtQSIsInN0YXRlIjoiZWRiOTRjYmRlNzY0YjIzNzMzOGZiMDBhYzVjYjQ2NWUifQ==\n"
          ]
        },
        {
          "output_type": "stream",
          "name": "stderr",
          "text": [
            "File downloaded:\n",
            "\n",
            "• \u001b[36mWorld Happiness Report FULL (w. regions).csv\u001b[39m\n",
            "  \u001b[90m<id: 1yKmr58VlIm8yERdfpHy8sUuZbS2CPVL8>\u001b[39m\n",
            "\n",
            "Saved locally as:\n",
            "\n",
            "• \u001b[34mWorld Happiness Report FULL (w. regions).csv\u001b[39m\n",
            "\n"
          ]
        }
      ]
    },
    {
      "cell_type": "code",
      "source": [
        "world_happiness_report = read.csv(\"World Happiness Report FULL (w. regions).csv\")\n",
        "\n",
        "head(world_happiness_report)\n",
        "colnames(world_happiness_report)"
      ],
      "metadata": {
        "colab": {
          "base_uri": "https://localhost:8080/"
        },
        "id": "6kkPYSuS8naD",
        "outputId": "0519b41e-55c9-46b9-b628-87b00682ce89",
        "collapsed": true
      },
      "execution_count": null,
      "outputs": [
        {
          "output_type": "display_data",
          "data": {
            "text/html": [
              "<table class=\"dataframe\">\n",
              "<caption>A data.frame: 6 × 13</caption>\n",
              "<thead>\n",
              "\t<tr><th></th><th scope=col>Country</th><th scope=col>Country..group.</th><th scope=col>Regions</th><th scope=col>Regions.V2</th><th scope=col>Year</th><th scope=col>Freedom</th><th scope=col>GDP.per.capita</th><th scope=col>Generosity</th><th scope=col>Happiness.Rank</th><th scope=col>Happiness.Score</th><th scope=col>Health</th><th scope=col>Social.support</th><th scope=col>Trust</th></tr>\n",
              "\t<tr><th></th><th scope=col>&lt;chr&gt;</th><th scope=col>&lt;chr&gt;</th><th scope=col>&lt;chr&gt;</th><th scope=col>&lt;chr&gt;</th><th scope=col>&lt;int&gt;</th><th scope=col>&lt;dbl&gt;</th><th scope=col>&lt;dbl&gt;</th><th scope=col>&lt;dbl&gt;</th><th scope=col>&lt;int&gt;</th><th scope=col>&lt;dbl&gt;</th><th scope=col>&lt;dbl&gt;</th><th scope=col>&lt;dbl&gt;</th><th scope=col>&lt;dbl&gt;</th></tr>\n",
              "</thead>\n",
              "<tbody>\n",
              "\t<tr><th scope=row>1</th><td>Switzerland</td><td>Switzerland</td><td>Europe       </td><td>Europe       </td><td>2015</td><td>0.66557</td><td>1.39651</td><td>0.29678</td><td>1</td><td>7.587</td><td>0.94143</td><td>1.34951</td><td>0.41978</td></tr>\n",
              "\t<tr><th scope=row>2</th><td>Iceland    </td><td>Iceland    </td><td>Europe       </td><td>Europe       </td><td>2015</td><td>0.62877</td><td>1.30232</td><td>0.43630</td><td>2</td><td>7.561</td><td>0.94784</td><td>1.40223</td><td>0.14145</td></tr>\n",
              "\t<tr><th scope=row>3</th><td>Denmark    </td><td>Denmark    </td><td>Europe       </td><td>Europe       </td><td>2015</td><td>0.64938</td><td>1.32548</td><td>0.34139</td><td>3</td><td>7.527</td><td>0.87464</td><td>1.36058</td><td>0.48357</td></tr>\n",
              "\t<tr><th scope=row>4</th><td>Norway     </td><td>Norway     </td><td>Europe       </td><td>Europe       </td><td>2015</td><td>0.66973</td><td>1.45900</td><td>0.34699</td><td>4</td><td>7.522</td><td>0.88521</td><td>1.33095</td><td>0.36503</td></tr>\n",
              "\t<tr><th scope=row>5</th><td>Canada     </td><td>Canada     </td><td>North America</td><td>North America</td><td>2015</td><td>0.63297</td><td>1.32629</td><td>0.45811</td><td>5</td><td>7.427</td><td>0.90563</td><td>1.32261</td><td>0.32957</td></tr>\n",
              "\t<tr><th scope=row>6</th><td>Finland    </td><td>Finland    </td><td>Europe       </td><td>Europe       </td><td>2015</td><td>0.64169</td><td>1.29025</td><td>0.23351</td><td>6</td><td>7.406</td><td>0.88911</td><td>1.31826</td><td>0.41372</td></tr>\n",
              "</tbody>\n",
              "</table>\n"
            ],
            "text/markdown": "\nA data.frame: 6 × 13\n\n| <!--/--> | Country &lt;chr&gt; | Country..group. &lt;chr&gt; | Regions &lt;chr&gt; | Regions.V2 &lt;chr&gt; | Year &lt;int&gt; | Freedom &lt;dbl&gt; | GDP.per.capita &lt;dbl&gt; | Generosity &lt;dbl&gt; | Happiness.Rank &lt;int&gt; | Happiness.Score &lt;dbl&gt; | Health &lt;dbl&gt; | Social.support &lt;dbl&gt; | Trust &lt;dbl&gt; |\n|---|---|---|---|---|---|---|---|---|---|---|---|---|---|\n| 1 | Switzerland | Switzerland | Europe        | Europe        | 2015 | 0.66557 | 1.39651 | 0.29678 | 1 | 7.587 | 0.94143 | 1.34951 | 0.41978 |\n| 2 | Iceland     | Iceland     | Europe        | Europe        | 2015 | 0.62877 | 1.30232 | 0.43630 | 2 | 7.561 | 0.94784 | 1.40223 | 0.14145 |\n| 3 | Denmark     | Denmark     | Europe        | Europe        | 2015 | 0.64938 | 1.32548 | 0.34139 | 3 | 7.527 | 0.87464 | 1.36058 | 0.48357 |\n| 4 | Norway      | Norway      | Europe        | Europe        | 2015 | 0.66973 | 1.45900 | 0.34699 | 4 | 7.522 | 0.88521 | 1.33095 | 0.36503 |\n| 5 | Canada      | Canada      | North America | North America | 2015 | 0.63297 | 1.32629 | 0.45811 | 5 | 7.427 | 0.90563 | 1.32261 | 0.32957 |\n| 6 | Finland     | Finland     | Europe        | Europe        | 2015 | 0.64169 | 1.29025 | 0.23351 | 6 | 7.406 | 0.88911 | 1.31826 | 0.41372 |\n\n",
            "text/latex": "A data.frame: 6 × 13\n\\begin{tabular}{r|lllllllllllll}\n  & Country & Country..group. & Regions & Regions.V2 & Year & Freedom & GDP.per.capita & Generosity & Happiness.Rank & Happiness.Score & Health & Social.support & Trust\\\\\n  & <chr> & <chr> & <chr> & <chr> & <int> & <dbl> & <dbl> & <dbl> & <int> & <dbl> & <dbl> & <dbl> & <dbl>\\\\\n\\hline\n\t1 & Switzerland & Switzerland & Europe        & Europe        & 2015 & 0.66557 & 1.39651 & 0.29678 & 1 & 7.587 & 0.94143 & 1.34951 & 0.41978\\\\\n\t2 & Iceland     & Iceland     & Europe        & Europe        & 2015 & 0.62877 & 1.30232 & 0.43630 & 2 & 7.561 & 0.94784 & 1.40223 & 0.14145\\\\\n\t3 & Denmark     & Denmark     & Europe        & Europe        & 2015 & 0.64938 & 1.32548 & 0.34139 & 3 & 7.527 & 0.87464 & 1.36058 & 0.48357\\\\\n\t4 & Norway      & Norway      & Europe        & Europe        & 2015 & 0.66973 & 1.45900 & 0.34699 & 4 & 7.522 & 0.88521 & 1.33095 & 0.36503\\\\\n\t5 & Canada      & Canada      & North America & North America & 2015 & 0.63297 & 1.32629 & 0.45811 & 5 & 7.427 & 0.90563 & 1.32261 & 0.32957\\\\\n\t6 & Finland     & Finland     & Europe        & Europe        & 2015 & 0.64169 & 1.29025 & 0.23351 & 6 & 7.406 & 0.88911 & 1.31826 & 0.41372\\\\\n\\end{tabular}\n",
            "text/plain": [
              "  Country     Country..group. Regions       Regions.V2    Year Freedom\n",
              "1 Switzerland Switzerland     Europe        Europe        2015 0.66557\n",
              "2 Iceland     Iceland         Europe        Europe        2015 0.62877\n",
              "3 Denmark     Denmark         Europe        Europe        2015 0.64938\n",
              "4 Norway      Norway          Europe        Europe        2015 0.66973\n",
              "5 Canada      Canada          North America North America 2015 0.63297\n",
              "6 Finland     Finland         Europe        Europe        2015 0.64169\n",
              "  GDP.per.capita Generosity Happiness.Rank Happiness.Score Health \n",
              "1 1.39651        0.29678    1              7.587           0.94143\n",
              "2 1.30232        0.43630    2              7.561           0.94784\n",
              "3 1.32548        0.34139    3              7.527           0.87464\n",
              "4 1.45900        0.34699    4              7.522           0.88521\n",
              "5 1.32629        0.45811    5              7.427           0.90563\n",
              "6 1.29025        0.23351    6              7.406           0.88911\n",
              "  Social.support Trust  \n",
              "1 1.34951        0.41978\n",
              "2 1.40223        0.14145\n",
              "3 1.36058        0.48357\n",
              "4 1.33095        0.36503\n",
              "5 1.32261        0.32957\n",
              "6 1.31826        0.41372"
            ]
          },
          "metadata": {}
        },
        {
          "output_type": "display_data",
          "data": {
            "text/html": [
              "<style>\n",
              ".list-inline {list-style: none; margin:0; padding: 0}\n",
              ".list-inline>li {display: inline-block}\n",
              ".list-inline>li:not(:last-child)::after {content: \"\\00b7\"; padding: 0 .5ex}\n",
              "</style>\n",
              "<ol class=list-inline><li>'Country'</li><li>'Country..group.'</li><li>'Regions'</li><li>'Regions.V2'</li><li>'Year'</li><li>'Freedom'</li><li>'GDP.per.capita'</li><li>'Generosity'</li><li>'Happiness.Rank'</li><li>'Happiness.Score'</li><li>'Health'</li><li>'Social.support'</li><li>'Trust'</li></ol>\n"
            ],
            "text/markdown": "1. 'Country'\n2. 'Country..group.'\n3. 'Regions'\n4. 'Regions.V2'\n5. 'Year'\n6. 'Freedom'\n7. 'GDP.per.capita'\n8. 'Generosity'\n9. 'Happiness.Rank'\n10. 'Happiness.Score'\n11. 'Health'\n12. 'Social.support'\n13. 'Trust'\n\n\n",
            "text/latex": "\\begin{enumerate*}\n\\item 'Country'\n\\item 'Country..group.'\n\\item 'Regions'\n\\item 'Regions.V2'\n\\item 'Year'\n\\item 'Freedom'\n\\item 'GDP.per.capita'\n\\item 'Generosity'\n\\item 'Happiness.Rank'\n\\item 'Happiness.Score'\n\\item 'Health'\n\\item 'Social.support'\n\\item 'Trust'\n\\end{enumerate*}\n",
            "text/plain": [
              " [1] \"Country\"         \"Country..group.\" \"Regions\"         \"Regions.V2\"     \n",
              " [5] \"Year\"            \"Freedom\"         \"GDP.per.capita\"  \"Generosity\"     \n",
              " [9] \"Happiness.Rank\"  \"Happiness.Score\" \"Health\"          \"Social.support\" \n",
              "[13] \"Trust\"          "
            ]
          },
          "metadata": {}
        }
      ]
    },
    {
      "cell_type": "markdown",
      "source": [
        "#Data Analysis"
      ],
      "metadata": {
        "id": "4yPLpfti_R_G"
      }
    },
    {
      "cell_type": "markdown",
      "source": [
        "As we went through the data, the team was especially interested in understanding which factor was contributing the most variations in Happiness Scores."
      ],
      "metadata": {
        "id": "tmN1f7NR_Tm8"
      }
    },
    {
      "cell_type": "markdown",
      "source": [
        "##Multiple Regression\n",
        "\n",
        "To examine this, we used a multiple regression and standardized coefficients to see which of  the 6 factors were impacting Happiness Scores the most."
      ],
      "metadata": {
        "id": "ldyOAZxWGE7Q"
      }
    },
    {
      "cell_type": "code",
      "source": [
        "#Running a multiple regression to start gettin an idea of which factors are\n",
        "#contributing the most to happiness scores\n",
        "library(ggplot2)\n",
        "\n",
        "model = lm(Happiness.Score ~ Freedom + GDP.per.capita + Generosity + Health +\n",
        "          Social.support + Trust, data = world_happiness_report)\n",
        "summary(model)"
      ],
      "metadata": {
        "colab": {
          "base_uri": "https://localhost:8080/",
          "height": 451
        },
        "collapsed": true,
        "id": "KZWlbsSw9XEP",
        "outputId": "1dc5dd31-95f8-4e18-c88d-ee9d6efe9c51"
      },
      "execution_count": null,
      "outputs": [
        {
          "output_type": "display_data",
          "data": {
            "text/plain": [
              "\n",
              "Call:\n",
              "lm(formula = Happiness.Score ~ Freedom + GDP.per.capita + Generosity + \n",
              "    Health + Social.support + Trust, data = world_happiness_report)\n",
              "\n",
              "Residuals:\n",
              "     Min       1Q   Median       3Q      Max \n",
              "-1.92864 -0.32283  0.01871  0.35508  1.66179 \n",
              "\n",
              "Coefficients:\n",
              "               Estimate Std. Error t value Pr(>|t|)    \n",
              "(Intercept)     2.17507    0.07991  27.219  < 2e-16 ***\n",
              "Freedom         1.48127    0.16346   9.062  < 2e-16 ***\n",
              "GDP.per.capita  1.13600    0.08415  13.500  < 2e-16 ***\n",
              "Generosity      0.59244    0.17570   3.372 0.000784 ***\n",
              "Health          1.01271    0.13201   7.671 5.12e-14 ***\n",
              "Social.support  0.64590    0.08092   7.982 5.21e-15 ***\n",
              "Trust           0.85823    0.22344   3.841 0.000133 ***\n",
              "---\n",
              "Signif. codes:  0 ‘***’ 0.001 ‘**’ 0.01 ‘*’ 0.05 ‘.’ 0.1 ‘ ’ 1\n",
              "\n",
              "Residual standard error: 0.55 on 774 degrees of freedom\n",
              "  (1 observation deleted due to missingness)\n",
              "Multiple R-squared:  0.7637,\tAdjusted R-squared:  0.7619 \n",
              "F-statistic:   417 on 6 and 774 DF,  p-value: < 2.2e-16\n"
            ]
          },
          "metadata": {}
        }
      ]
    },
    {
      "cell_type": "code",
      "source": [
        "#Running another multiple regression with standardized coefficients in order to\n",
        "#compare relative impact as each factor will be placed on the same scale\n",
        "\n",
        "world_happiness_report_scaled <- as.data.frame(scale(world_happiness_report[, c(\"Freedom\", \"GDP.per.capita\", \"Generosity\",\n",
        "                                                                 \"Health\", \"Social.support\", \"Trust\")]))\n",
        "\n",
        "world_happiness_report_scaled$Happiness.Score <- world_happiness_report$Happiness.Score\n",
        "\n",
        "model_scaled <- lm(Happiness.Score ~ Freedom + GDP.per.capita + Generosity +\n",
        "                   Health + Social.support + Trust, data = world_happiness_report_scaled)\n",
        "\n",
        "summary(model_scaled)"
      ],
      "metadata": {
        "colab": {
          "base_uri": "https://localhost:8080/"
        },
        "id": "yxU_BZjcEDlA",
        "outputId": "12ec84ad-3fbe-4d8a-82a6-3c4c7902fedf",
        "collapsed": true
      },
      "execution_count": null,
      "outputs": [
        {
          "output_type": "display_data",
          "data": {
            "text/plain": [
              "\n",
              "Call:\n",
              "lm(formula = Happiness.Score ~ Freedom + GDP.per.capita + Generosity + \n",
              "    Health + Social.support + Trust, data = world_happiness_report_scaled)\n",
              "\n",
              "Residuals:\n",
              "     Min       1Q   Median       3Q      Max \n",
              "-1.92864 -0.32283  0.01871  0.35508  1.66179 \n",
              "\n",
              "Coefficients:\n",
              "               Estimate Std. Error t value Pr(>|t|)    \n",
              "(Intercept)     5.37851    0.01968 273.303  < 2e-16 ***\n",
              "Freedom         0.22646    0.02499   9.062  < 2e-16 ***\n",
              "GDP.per.capita  0.46274    0.03428  13.500  < 2e-16 ***\n",
              "Generosity      0.07247    0.02149   3.372 0.000784 ***\n",
              "Health          0.25146    0.03278   7.671 5.12e-14 ***\n",
              "Social.support  0.21285    0.02667   7.982 5.21e-15 ***\n",
              "Trust           0.09081    0.02364   3.841 0.000133 ***\n",
              "---\n",
              "Signif. codes:  0 ‘***’ 0.001 ‘**’ 0.01 ‘*’ 0.05 ‘.’ 0.1 ‘ ’ 1\n",
              "\n",
              "Residual standard error: 0.55 on 774 degrees of freedom\n",
              "  (1 observation deleted due to missingness)\n",
              "Multiple R-squared:  0.7637,\tAdjusted R-squared:  0.7619 \n",
              "F-statistic:   417 on 6 and 774 DF,  p-value: < 2.2e-16\n"
            ]
          },
          "metadata": {}
        }
      ]
    },
    {
      "cell_type": "markdown",
      "source": [
        "##Standardized Multiple Regression\n",
        "\n",
        "The next step was the run standardized multiple regressions for each region to see if our previous results held true."
      ],
      "metadata": {
        "id": "YsKTidYqtFbn"
      }
    },
    {
      "cell_type": "code",
      "source": [
        "library(dplyr)\n",
        "library(tidyr)\n",
        "\n",
        "results <- world_happiness_report %>%\n",
        "  group_by(Regions.V2) %>%\n",
        "  do(\n",
        "    {\n",
        "      # Step 1: Scale the predictor variables within each region\n",
        "      scaled_data <- as.data.frame(scale(.[, c(\"Freedom\", \"GDP.per.capita\", \"Generosity\", \"Health\", \"Social.support\", \"Trust\")]))\n",
        "      scaled_data$Happiness.Score <- .$Happiness.Score\n",
        "\n",
        "      # Step 2: Fit a linear model with Happiness.Score as the response and the predictors as explanatory variables\n",
        "      model <- lm(Happiness.Score ~ Freedom + GDP.per.capita + Generosity + Health + Social.support + Trust, data = scaled_data)\n",
        "\n",
        "      # Step 3: Extract model summary to get coefficients, R-squared, and p-values\n",
        "      model_summary <- summary(model)\n",
        "\n",
        "      # Step 4: Calculate standardized coefficients (beta values) for each predictor\n",
        "      std_devs <- apply(.[, c(\"Freedom\", \"GDP.per.capita\", \"Generosity\", \"Health\", \"Social.support\", \"Trust\")], 2, sd)  # SD of predictors\n",
        "      happiness_sd <- sd(.$Happiness.Score)  # SD of response variable\n",
        "      standardized_betas <- model$coefficients[-1] * std_devs / happiness_sd  # Standardized coefficients (excluding intercept)\n",
        "\n",
        "      # Step 5: Create a data frame to store the results for this region\n",
        "      data.frame(\n",
        "        term = rownames(model_summary$coefficients),\n",
        "        estimate = model_summary$coefficients[, \"Estimate\"],\n",
        "        std_error = model_summary$coefficients[, \"Std. Error\"],\n",
        "        t_value = model_summary$coefficients[, \"t value\"],\n",
        "        p_value = model_summary$coefficients[, \"Pr(>|t|)\"],\n",
        "        beta = c(NA, standardized_betas),\n",
        "        r_squared = model_summary$r.squared,\n",
        "        stringsAsFactors = FALSE\n",
        "      )\n",
        "    }\n",
        "  ) %>%\n",
        "  ungroup()\n",
        "\n",
        "print(results, n = Inf)\n"
      ],
      "metadata": {
        "id": "WdcY258VwqRI",
        "colab": {
          "base_uri": "https://localhost:8080/"
        },
        "collapsed": true,
        "outputId": "49c7bc52-c810-472a-a749-95ed99ffc11e"
      },
      "execution_count": null,
      "outputs": [
        {
          "output_type": "stream",
          "name": "stdout",
          "text": [
            "\u001b[90m# A tibble: 63 × 8\u001b[39m\n",
            "   Regions.V2     term  estimate std_error  t_value   p_value     beta r_squared\n",
            "   \u001b[3m\u001b[90m<chr>\u001b[39m\u001b[23m          \u001b[3m\u001b[90m<chr>\u001b[39m\u001b[23m    \u001b[3m\u001b[90m<dbl>\u001b[39m\u001b[23m     \u001b[3m\u001b[90m<dbl>\u001b[39m\u001b[23m    \u001b[3m\u001b[90m<dbl>\u001b[39m\u001b[23m     \u001b[3m\u001b[90m<dbl>\u001b[39m\u001b[23m    \u001b[3m\u001b[90m<dbl>\u001b[39m\u001b[23m     \u001b[3m\u001b[90m<dbl>\u001b[39m\u001b[23m\n",
            "\u001b[90m 1\u001b[39m Asia           (Int…  5.31      0.040\u001b[4m6\u001b[24m   1.31\u001b[90me\u001b[39m+2 9.45\u001b[90me\u001b[39m\u001b[31m-128\u001b[39m \u001b[31mNA\u001b[39m   \u001b[90m \u001b[39m       0.578\n",
            "\u001b[90m 2\u001b[39m Asia           Free… -\u001b[31m0\u001b[39m\u001b[31m.\u001b[39m\u001b[31m0\u001b[39m\u001b[31m76\u001b[4m5\u001b[24m\u001b[39m    0.047\u001b[4m2\u001b[24m  -\u001b[31m1\u001b[39m\u001b[31m.\u001b[39m\u001b[31m62\u001b[39m\u001b[90me\u001b[39m+0 1.08\u001b[90me\u001b[39m\u001b[31m-  1\u001b[39m -\u001b[31m1\u001b[39m\u001b[31m.\u001b[39m\u001b[31m13\u001b[39m\u001b[90me\u001b[39m\u001b[31m-2\u001b[39m     0.578\n",
            "\u001b[90m 3\u001b[39m Asia           GDP.…  0.326     0.064\u001b[4m4\u001b[24m   5.06\u001b[90me\u001b[39m+0 1.58\u001b[90me\u001b[39m\u001b[31m-  6\u001b[39m  1.63\u001b[90me\u001b[39m\u001b[31m-1\u001b[39m     0.578\n",
            "\u001b[90m 4\u001b[39m Asia           Gene… -\u001b[31m0\u001b[39m\u001b[31m.\u001b[39m\u001b[31m0\u001b[39m\u001b[31m14\u001b[4m0\u001b[24m\u001b[39m    0.044\u001b[4m7\u001b[24m  -\u001b[31m3\u001b[39m\u001b[31m.\u001b[39m\u001b[31m13\u001b[39m\u001b[90me\u001b[39m\u001b[31m-1\u001b[39m 7.55\u001b[90me\u001b[39m\u001b[31m-  1\u001b[39m -\u001b[31m3\u001b[39m\u001b[31m.\u001b[39m\u001b[31m22\u001b[39m\u001b[90me\u001b[39m\u001b[31m-3\u001b[39m     0.578\n",
            "\u001b[90m 5\u001b[39m Asia           Heal…  0.034\u001b[4m3\u001b[24m    0.062\u001b[4m7\u001b[24m   5.47\u001b[90me\u001b[39m\u001b[31m-1\u001b[39m 5.85\u001b[90me\u001b[39m\u001b[31m-  1\u001b[39m  9.26\u001b[90me\u001b[39m\u001b[31m-3\u001b[39m     0.578\n",
            "\u001b[90m 6\u001b[39m Asia           Soci…  0.206     0.045\u001b[4m6\u001b[24m   4.52\u001b[90me\u001b[39m+0 1.52\u001b[90me\u001b[39m\u001b[31m-  5\u001b[39m  8.75\u001b[90me\u001b[39m\u001b[31m-2\u001b[39m     0.578\n",
            "\u001b[90m 7\u001b[39m Asia           Trust  0.103     0.048\u001b[4m7\u001b[24m   2.12\u001b[90me\u001b[39m+0 3.65\u001b[90me\u001b[39m\u001b[31m-  2\u001b[39m  1.62\u001b[90me\u001b[39m\u001b[31m-2\u001b[39m     0.578\n",
            "\u001b[90m 8\u001b[39m Central Ameri… (Int…  5.82      0.064\u001b[4m5\u001b[24m   9.03\u001b[90me\u001b[39m+1 1.34\u001b[90me\u001b[39m\u001b[31m- 51\u001b[39m \u001b[31mNA\u001b[39m   \u001b[90m \u001b[39m       0.759\n",
            "\u001b[90m 9\u001b[39m Central Ameri… Free…  0.486     0.119    4.10\u001b[90me\u001b[39m+0 1.75\u001b[90me\u001b[39m\u001b[31m-  4\u001b[39m  8.13\u001b[90me\u001b[39m\u001b[31m-2\u001b[39m     0.759\n",
            "\u001b[90m10\u001b[39m Central Ameri… GDP.…  0.212     0.108    1.95\u001b[90me\u001b[39m+0 5.71\u001b[90me\u001b[39m\u001b[31m-  2\u001b[39m  6.01\u001b[90me\u001b[39m\u001b[31m-2\u001b[39m     0.759\n",
            "\u001b[90m11\u001b[39m Central Ameri… Gene…  0.021\u001b[4m9\u001b[24m    0.093\u001b[4m3\u001b[24m   2.35\u001b[90me\u001b[39m\u001b[31m-1\u001b[39m 8.15\u001b[90me\u001b[39m\u001b[31m-  1\u001b[39m  2.50\u001b[90me\u001b[39m\u001b[31m-3\u001b[39m     0.759\n",
            "\u001b[90m12\u001b[39m Central Ameri… Heal…  0.373     0.103    3.62\u001b[90me\u001b[39m+0 7.61\u001b[90me\u001b[39m\u001b[31m-  4\u001b[39m  6.49\u001b[90me\u001b[39m\u001b[31m-2\u001b[39m     0.759\n",
            "\u001b[90m13\u001b[39m Central Ameri… Soci… -\u001b[31m0\u001b[39m\u001b[31m.\u001b[39m\u001b[31m215\u001b[39m     0.118   -\u001b[31m1\u001b[39m\u001b[31m.\u001b[39m\u001b[31m83\u001b[39m\u001b[90me\u001b[39m+0 7.48\u001b[90me\u001b[39m\u001b[31m-  2\u001b[39m -\u001b[31m6\u001b[39m\u001b[31m.\u001b[39m\u001b[31m58\u001b[39m\u001b[90me\u001b[39m\u001b[31m-2\u001b[39m     0.759\n",
            "\u001b[90m14\u001b[39m Central Ameri… Trust -\u001b[31m0\u001b[39m\u001b[31m.\u001b[39m\u001b[31m00\u001b[39m\u001b[31m6\u001b[4m9\u001b[24m\u001b[4m6\u001b[24m\u001b[39m   0.081\u001b[4m1\u001b[24m  -\u001b[31m8\u001b[39m\u001b[31m.\u001b[39m\u001b[31m58\u001b[39m\u001b[90me\u001b[39m\u001b[31m-2\u001b[39m 9.32\u001b[90me\u001b[39m\u001b[31m-  1\u001b[39m -\u001b[31m3\u001b[39m\u001b[31m.\u001b[39m\u001b[31m0\u001b[39m\u001b[31m9\u001b[39m\u001b[90me\u001b[39m\u001b[31m-4\u001b[39m     0.759\n",
            "\u001b[90m15\u001b[39m Europe         (Int…  6.05      0.028\u001b[4m2\u001b[24m   2.15\u001b[90me\u001b[39m+2 4.66\u001b[90me\u001b[39m\u001b[31m-247\u001b[39m \u001b[31mNA\u001b[39m   \u001b[90m \u001b[39m       0.821\n",
            "\u001b[90m16\u001b[39m Europe         Free…  0.185     0.048\u001b[4m2\u001b[24m   3.85\u001b[90me\u001b[39m+0 1.58\u001b[90me\u001b[39m\u001b[31m-  4\u001b[39m  3.15\u001b[90me\u001b[39m\u001b[31m-2\u001b[39m     0.821\n",
            "\u001b[90m17\u001b[39m Europe         GDP.…  0.276     0.042\u001b[4m9\u001b[24m   6.44\u001b[90me\u001b[39m+0 8.28\u001b[90me\u001b[39m\u001b[31m- 10\u001b[39m  6.17\u001b[90me\u001b[39m\u001b[31m-2\u001b[39m     0.821\n",
            "\u001b[90m18\u001b[39m Europe         Gene…  0.166     0.034\u001b[4m7\u001b[24m   4.77\u001b[90me\u001b[39m+0 3.47\u001b[90me\u001b[39m\u001b[31m-  6\u001b[39m  2.11\u001b[90me\u001b[39m\u001b[31m-2\u001b[39m     0.821\n",
            "\u001b[90m19\u001b[39m Europe         Heal…  0.081\u001b[4m5\u001b[24m    0.036\u001b[4m1\u001b[24m   2.26\u001b[90me\u001b[39m+0 2.49\u001b[90me\u001b[39m\u001b[31m-  2\u001b[39m  1.00\u001b[90me\u001b[39m\u001b[31m-2\u001b[39m     0.821\n",
            "\u001b[90m20\u001b[39m Europe         Soci…  0.219     0.035\u001b[4m2\u001b[24m   6.21\u001b[90me\u001b[39m+0 2.75\u001b[90me\u001b[39m\u001b[31m-  9\u001b[39m  6.28\u001b[90me\u001b[39m\u001b[31m-2\u001b[39m     0.821\n",
            "\u001b[90m21\u001b[39m Europe         Trust  0.225     0.043\u001b[4m0\u001b[24m   5.24\u001b[90me\u001b[39m+0 4.00\u001b[90me\u001b[39m\u001b[31m-  7\u001b[39m  3.12\u001b[90me\u001b[39m\u001b[31m-2\u001b[39m     0.821\n",
            "\u001b[90m22\u001b[39m Middle East &… (Int…  5.22      0.051\u001b[4m3\u001b[24m   1.02\u001b[90me\u001b[39m+2 1.51\u001b[90me\u001b[39m\u001b[31m-107\u001b[39m \u001b[31mNA\u001b[39m   \u001b[90m \u001b[39m       0.716\n",
            "\u001b[90m23\u001b[39m Middle East &… Free…  0.376     0.073\u001b[4m9\u001b[24m   5.10\u001b[90me\u001b[39m+0 1.52\u001b[90me\u001b[39m\u001b[31m-  6\u001b[39m  6.00\u001b[90me\u001b[39m\u001b[31m-2\u001b[39m     0.716\n",
            "\u001b[90m24\u001b[39m Middle East &… GDP.…  0.325     0.093\u001b[4m3\u001b[24m   3.48\u001b[90me\u001b[39m+0 7.30\u001b[90me\u001b[39m\u001b[31m-  4\u001b[39m  1.32\u001b[90me\u001b[39m\u001b[31m-1\u001b[39m     0.716\n",
            "\u001b[90m25\u001b[39m Middle East &… Gene… -\u001b[31m0\u001b[39m\u001b[31m.\u001b[39m\u001b[31m0\u001b[39m\u001b[31m11\u001b[4m6\u001b[24m\u001b[39m    0.058\u001b[4m2\u001b[24m  -\u001b[31m2\u001b[39m\u001b[31m.\u001b[39m\u001b[31m00\u001b[39m\u001b[90me\u001b[39m\u001b[31m-1\u001b[39m 8.42\u001b[90me\u001b[39m\u001b[31m-  1\u001b[39m -\u001b[31m1\u001b[39m\u001b[31m.\u001b[39m\u001b[31m30\u001b[39m\u001b[90me\u001b[39m\u001b[31m-3\u001b[39m     0.716\n",
            "\u001b[90m26\u001b[39m Middle East &… Heal…  0.161     0.084\u001b[4m5\u001b[24m   1.91\u001b[90me\u001b[39m+0 5.89\u001b[90me\u001b[39m\u001b[31m-  2\u001b[39m  2.84\u001b[90me\u001b[39m\u001b[31m-2\u001b[39m     0.716\n",
            "\u001b[90m27\u001b[39m Middle East &… Soci…  0.140     0.078\u001b[4m4\u001b[24m   1.79\u001b[90me\u001b[39m+0 7.63\u001b[90me\u001b[39m\u001b[31m-  2\u001b[39m  4.60\u001b[90me\u001b[39m\u001b[31m-2\u001b[39m     0.716\n",
            "\u001b[90m28\u001b[39m Middle East &… Trust  0.095\u001b[4m3\u001b[24m    0.071\u001b[4m0\u001b[24m   1.34\u001b[90me\u001b[39m+0 1.83\u001b[90me\u001b[39m\u001b[31m-  1\u001b[39m \u001b[31mNA\u001b[39m   \u001b[90m \u001b[39m       0.716\n",
            "\u001b[90m29\u001b[39m North America  (Int…  7.02      0.024\u001b[4m6\u001b[24m   2.86\u001b[90me\u001b[39m+2 2.52\u001b[90me\u001b[39m\u001b[31m- 17\u001b[39m \u001b[31mNA\u001b[39m   \u001b[90m \u001b[39m       0.947\n",
            "\u001b[90m30\u001b[39m North America  Free…  0.106     0.089\u001b[4m7\u001b[24m   1.19\u001b[90me\u001b[39m+0 2.69\u001b[90me\u001b[39m\u001b[31m-  1\u001b[39m  2.83\u001b[90me\u001b[39m\u001b[31m-2\u001b[39m     0.947\n",
            "\u001b[90m31\u001b[39m North America  GDP.…  0.046\u001b[4m0\u001b[24m    0.096\u001b[4m5\u001b[24m   4.77\u001b[90me\u001b[39m\u001b[31m-1\u001b[39m 6.46\u001b[90me\u001b[39m\u001b[31m-  1\u001b[39m  2.65\u001b[90me\u001b[39m\u001b[31m-2\u001b[39m     0.947\n",
            "\u001b[90m32\u001b[39m North America  Gene…  0.085\u001b[4m5\u001b[24m    0.117    7.32\u001b[90me\u001b[39m\u001b[31m-1\u001b[39m 4.85\u001b[90me\u001b[39m\u001b[31m-  1\u001b[39m  3.94\u001b[90me\u001b[39m\u001b[31m-2\u001b[39m     0.947\n",
            "\u001b[90m33\u001b[39m North America  Heal…  0.079\u001b[4m5\u001b[24m    0.039\u001b[4m1\u001b[24m   2.03\u001b[90me\u001b[39m+0 7.63\u001b[90me\u001b[39m\u001b[31m-  2\u001b[39m  2.12\u001b[90me\u001b[39m\u001b[31m-2\u001b[39m     0.947\n",
            "\u001b[90m34\u001b[39m North America  Soci… -\u001b[31m0\u001b[39m\u001b[31m.\u001b[39m\u001b[31m118\u001b[39m     0.063\u001b[4m1\u001b[24m  -\u001b[31m1\u001b[39m\u001b[31m.\u001b[39m\u001b[31m86\u001b[39m\u001b[90me\u001b[39m+0 9.93\u001b[90me\u001b[39m\u001b[31m-  2\u001b[39m -\u001b[31m8\u001b[39m\u001b[31m.\u001b[39m\u001b[31m97\u001b[39m\u001b[90me\u001b[39m\u001b[31m-2\u001b[39m     0.947\n",
            "\u001b[90m35\u001b[39m North America  Trust  0.102     0.053\u001b[4m9\u001b[24m   1.90\u001b[90me\u001b[39m+0 9.41\u001b[90me\u001b[39m\u001b[31m-  2\u001b[39m  2.88\u001b[90me\u001b[39m\u001b[31m-2\u001b[39m     0.947\n",
            "\u001b[90m36\u001b[39m Oceania        (Int…  7.29      0.003\u001b[4m0\u001b[24m\u001b[4m1\u001b[24m  2.42\u001b[90me\u001b[39m+3 1.56\u001b[90me\u001b[39m\u001b[31m- 10\u001b[39m \u001b[31mNA\u001b[39m   \u001b[90m \u001b[39m       0.968\n",
            "\u001b[90m37\u001b[39m Oceania        Free…  0.015\u001b[4m4\u001b[24m    0.007\u001b[4m5\u001b[24m\u001b[4m6\u001b[24m  2.03\u001b[90me\u001b[39m+0 1.35\u001b[90me\u001b[39m\u001b[31m-  1\u001b[39m  1.93\u001b[90me\u001b[39m\u001b[31m-2\u001b[39m     0.968\n",
            "\u001b[90m38\u001b[39m Oceania        GDP.…  0.051\u001b[4m1\u001b[24m    0.014\u001b[4m0\u001b[24m   3.65\u001b[90me\u001b[39m+0 3.55\u001b[90me\u001b[39m\u001b[31m-  2\u001b[39m  1.23\u001b[90me\u001b[39m\u001b[31m-1\u001b[39m     0.968\n",
            "\u001b[90m39\u001b[39m Oceania        Gene… -\u001b[31m0\u001b[39m\u001b[31m.\u001b[39m\u001b[31m0\u001b[39m\u001b[31m51\u001b[4m7\u001b[24m\u001b[39m    0.009\u001b[4m9\u001b[24m\u001b[4m8\u001b[24m -\u001b[31m5\u001b[39m\u001b[31m.\u001b[39m\u001b[31m18\u001b[39m\u001b[90me\u001b[39m+0 1.40\u001b[90me\u001b[39m\u001b[31m-  2\u001b[39m -\u001b[31m1\u001b[39m\u001b[31m.\u001b[39m\u001b[31m17\u001b[39m\u001b[90me\u001b[39m\u001b[31m-1\u001b[39m     0.968\n",
            "\u001b[90m40\u001b[39m Oceania        Heal… -\u001b[31m0\u001b[39m\u001b[31m.\u001b[39m\u001b[31m0\u001b[39m\u001b[31m19\u001b[4m0\u001b[24m\u001b[39m    0.007\u001b[4m8\u001b[24m\u001b[4m6\u001b[24m -\u001b[31m2\u001b[39m\u001b[31m.\u001b[39m\u001b[31m42\u001b[39m\u001b[90me\u001b[39m+0 9.40\u001b[90me\u001b[39m\u001b[31m-  2\u001b[39m -\u001b[31m4\u001b[39m\u001b[31m.\u001b[39m\u001b[31m76\u001b[39m\u001b[90me\u001b[39m\u001b[31m-2\u001b[39m     0.968\n",
            "\u001b[90m41\u001b[39m Oceania        Soci… -\u001b[31m0\u001b[39m\u001b[31m.\u001b[39m\u001b[31m0\u001b[39m\u001b[31m16\u001b[4m2\u001b[24m\u001b[39m    0.005\u001b[4m2\u001b[24m\u001b[4m0\u001b[24m -\u001b[31m3\u001b[39m\u001b[31m.\u001b[39m\u001b[31m12\u001b[39m\u001b[90me\u001b[39m+0 5.24\u001b[90me\u001b[39m\u001b[31m-  2\u001b[39m -\u001b[31m9\u001b[39m\u001b[31m.\u001b[39m\u001b[31m61\u001b[39m\u001b[90me\u001b[39m\u001b[31m-2\u001b[39m     0.968\n",
            "\u001b[90m42\u001b[39m Oceania        Trust  0.055\u001b[4m5\u001b[24m    0.010\u001b[4m1\u001b[24m   5.52\u001b[90me\u001b[39m+0 1.17\u001b[90me\u001b[39m\u001b[31m-  2\u001b[39m  9.13\u001b[90me\u001b[39m\u001b[31m-2\u001b[39m     0.968\n",
            "\u001b[90m43\u001b[39m Other          (Int…  5.69      0.093\u001b[4m7\u001b[24m   6.08\u001b[90me\u001b[39m+1 2.29\u001b[90me\u001b[39m\u001b[31m- 19\u001b[39m \u001b[31mNA\u001b[39m   \u001b[90m \u001b[39m       0.774\n",
            "\u001b[90m44\u001b[39m Other          Free…  0.158     0.112    1.42\u001b[90me\u001b[39m+0 1.76\u001b[90me\u001b[39m\u001b[31m-  1\u001b[39m  1.87\u001b[90me\u001b[39m\u001b[31m-2\u001b[39m     0.774\n",
            "\u001b[90m45\u001b[39m Other          GDP.…  0.684     0.183    3.73\u001b[90me\u001b[39m+0 2.00\u001b[90me\u001b[39m\u001b[31m-  3\u001b[39m  3.33\u001b[90me\u001b[39m\u001b[31m-1\u001b[39m     0.774\n",
            "\u001b[90m46\u001b[39m Other          Gene…  0.083\u001b[4m1\u001b[24m    0.114    7.27\u001b[90me\u001b[39m\u001b[31m-1\u001b[39m 4.78\u001b[90me\u001b[39m\u001b[31m-  1\u001b[39m  1.23\u001b[90me\u001b[39m\u001b[31m-2\u001b[39m     0.774\n",
            "\u001b[90m47\u001b[39m Other          Heal…  0.064\u001b[4m2\u001b[24m    0.140    4.58\u001b[90me\u001b[39m\u001b[31m-1\u001b[39m 6.53\u001b[90me\u001b[39m\u001b[31m-  1\u001b[39m  2.10\u001b[90me\u001b[39m\u001b[31m-2\u001b[39m     0.774\n",
            "\u001b[90m48\u001b[39m Other          Soci… -\u001b[31m0\u001b[39m\u001b[31m.\u001b[39m\u001b[31m0\u001b[39m\u001b[31m42\u001b[4m2\u001b[24m\u001b[39m    0.119   -\u001b[31m3\u001b[39m\u001b[31m.\u001b[39m\u001b[31m55\u001b[39m\u001b[90me\u001b[39m\u001b[31m-1\u001b[39m 7.28\u001b[90me\u001b[39m\u001b[31m-  1\u001b[39m -\u001b[31m1\u001b[39m\u001b[31m.\u001b[39m\u001b[31m28\u001b[39m\u001b[90me\u001b[39m\u001b[31m-2\u001b[39m     0.774\n",
            "\u001b[90m49\u001b[39m Other          Trust  0.165     0.139    1.19\u001b[90me\u001b[39m+0 2.53\u001b[90me\u001b[39m\u001b[31m-  1\u001b[39m  2.44\u001b[90me\u001b[39m\u001b[31m-2\u001b[39m     0.774\n",
            "\u001b[90m50\u001b[39m South America  (Int…  6.12      0.046\u001b[4m1\u001b[24m   1.33\u001b[90me\u001b[39m+2 7.54\u001b[90me\u001b[39m\u001b[31m- 58\u001b[39m \u001b[31mNA\u001b[39m   \u001b[90m \u001b[39m       0.621\n",
            "\u001b[90m51\u001b[39m South America  Free…  0.284     0.055\u001b[4m5\u001b[24m   5.12\u001b[90me\u001b[39m+0 6.92\u001b[90me\u001b[39m\u001b[31m-  6\u001b[39m  6.29\u001b[90me\u001b[39m\u001b[31m-2\u001b[39m     0.621\n",
            "\u001b[90m52\u001b[39m South America  GDP.…  0.347     0.057\u001b[4m4\u001b[24m   6.04\u001b[90me\u001b[39m+0 3.17\u001b[90me\u001b[39m\u001b[31m-  7\u001b[39m  9.37\u001b[90me\u001b[39m\u001b[31m-2\u001b[39m     0.621\n",
            "\u001b[90m53\u001b[39m South America  Gene…  0.019\u001b[4m1\u001b[24m    0.050\u001b[4m7\u001b[24m   3.76\u001b[90me\u001b[39m\u001b[31m-1\u001b[39m 7.09\u001b[90me\u001b[39m\u001b[31m-  1\u001b[39m  2.80\u001b[90me\u001b[39m\u001b[31m-3\u001b[39m     0.621\n",
            "\u001b[90m54\u001b[39m South America  Heal…  0.021\u001b[4m6\u001b[24m    0.053\u001b[4m6\u001b[24m   4.02\u001b[90me\u001b[39m\u001b[31m-1\u001b[39m 6.89\u001b[90me\u001b[39m\u001b[31m-  1\u001b[39m  4.77\u001b[90me\u001b[39m\u001b[31m-3\u001b[39m     0.621\n",
            "\u001b[90m55\u001b[39m South America  Soci… -\u001b[31m0\u001b[39m\u001b[31m.\u001b[39m\u001b[31m114\u001b[39m     0.052\u001b[4m6\u001b[24m  -\u001b[31m2\u001b[39m\u001b[31m.\u001b[39m\u001b[31m17\u001b[39m\u001b[90me\u001b[39m+0 3.52\u001b[90me\u001b[39m\u001b[31m-  2\u001b[39m -\u001b[31m4\u001b[39m\u001b[31m.\u001b[39m\u001b[31m53\u001b[39m\u001b[90me\u001b[39m\u001b[31m-2\u001b[39m     0.621\n",
            "\u001b[90m56\u001b[39m South America  Trust  0.013\u001b[4m0\u001b[24m    0.054\u001b[4m3\u001b[24m   2.40\u001b[90me\u001b[39m\u001b[31m-1\u001b[39m 8.12\u001b[90me\u001b[39m\u001b[31m-  1\u001b[39m  1.32\u001b[90me\u001b[39m\u001b[31m-3\u001b[39m     0.621\n",
            "\u001b[90m57\u001b[39m Sub-Saharan A… (Int…  4.11      0.032\u001b[4m9\u001b[24m   1.25\u001b[90me\u001b[39m+2 3.41\u001b[90me\u001b[39m\u001b[31m-172\u001b[39m \u001b[31mNA\u001b[39m   \u001b[90m \u001b[39m       0.338\n",
            "\u001b[90m58\u001b[39m Sub-Saharan A… Free…  0.097\u001b[4m2\u001b[24m    0.035\u001b[4m6\u001b[24m   2.73\u001b[90me\u001b[39m+0 7.01\u001b[90me\u001b[39m\u001b[31m-  3\u001b[39m  2.48\u001b[90me\u001b[39m\u001b[31m-2\u001b[39m     0.338\n",
            "\u001b[90m59\u001b[39m Sub-Saharan A… GDP.…  0.119     0.044\u001b[4m3\u001b[24m   2.68\u001b[90me\u001b[39m+0 8.15\u001b[90me\u001b[39m\u001b[31m-  3\u001b[39m  6.11\u001b[90me\u001b[39m\u001b[31m-2\u001b[39m     0.338\n",
            "\u001b[90m60\u001b[39m Sub-Saharan A… Gene…  0.062\u001b[4m8\u001b[24m    0.040\u001b[4m5\u001b[24m   1.55\u001b[90me\u001b[39m+0 1.23\u001b[90me\u001b[39m\u001b[31m-  1\u001b[39m  8.43\u001b[90me\u001b[39m\u001b[31m-3\u001b[39m     0.338\n",
            "\u001b[90m61\u001b[39m Sub-Saharan A… Heal… -\u001b[31m0\u001b[39m\u001b[31m.\u001b[39m\u001b[31m0\u001b[39m\u001b[31m25\u001b[4m1\u001b[24m\u001b[39m    0.034\u001b[4m4\u001b[24m  -\u001b[31m7\u001b[39m\u001b[31m.\u001b[39m\u001b[31m30\u001b[39m\u001b[90me\u001b[39m\u001b[31m-1\u001b[39m 4.67\u001b[90me\u001b[39m\u001b[31m-  1\u001b[39m -\u001b[31m6\u001b[39m\u001b[31m.\u001b[39m\u001b[31m47\u001b[39m\u001b[90me\u001b[39m\u001b[31m-3\u001b[39m     0.338\n",
            "\u001b[90m62\u001b[39m Sub-Saharan A… Soci…  0.204     0.037\u001b[4m5\u001b[24m   5.42\u001b[90me\u001b[39m+0 1.92\u001b[90me\u001b[39m\u001b[31m-  7\u001b[39m  1.14\u001b[90me\u001b[39m\u001b[31m-1\u001b[39m     0.338\n",
            "\u001b[90m63\u001b[39m Sub-Saharan A… Trust -\u001b[31m0\u001b[39m\u001b[31m.\u001b[39m\u001b[31m119\u001b[39m     0.035\u001b[4m1\u001b[24m  -\u001b[31m3\u001b[39m\u001b[31m.\u001b[39m\u001b[31m38\u001b[39m\u001b[90me\u001b[39m+0 8.91\u001b[90me\u001b[39m\u001b[31m-  4\u001b[39m -\u001b[31m1\u001b[39m\u001b[31m.\u001b[39m\u001b[31m64\u001b[39m\u001b[90me\u001b[39m\u001b[31m-2\u001b[39m     0.338\n"
          ]
        }
      ]
    },
    {
      "cell_type": "markdown",
      "source": [
        "Creating a bar graph for visual representation of beta coefficients for ease of interpretation."
      ],
      "metadata": {
        "id": "ZvDGPfR6k4O9"
      }
    },
    {
      "cell_type": "code",
      "source": [
        "# Install and load necessary packages if not already done\n",
        "if (!require(\"lm.beta\")) install.packages(\"lm.beta\")\n",
        "if (!require(\"ggplot2\")) install.packages(\"ggplot2\")\n",
        "library(lm.beta)\n",
        "library(ggplot2)\n",
        "\n",
        "# Step 1: Run the regression and get standardized coefficients\n",
        "model <-  lm(Happiness.Score ~ Freedom + Social.support + GDP.per.capita + Generosity + Health + Trust, data = world_happiness_report)\n",
        "model_beta <- lm.beta(model)\n",
        "\n",
        "# Step 2: Extract beta coefficients and confidence intervals\n",
        "beta_coefficients <- coef(model_beta)[-1]  # Exclude intercept\n",
        "conf_intervals <- confint(model_beta)[-1, ]  # Exclude intercept\n",
        "\n",
        "# Step 3: Create a data frame for ggplot\n",
        "plot_data <- data.frame(\n",
        "  Predictor = names(beta_coefficients),\n",
        "  Beta = beta_coefficients\n",
        ")\n",
        "\n",
        "# Step 4: Plot\n",
        "ggplot(plot_data, aes(x = reorder(Predictor, Beta), y = Beta)) +\n",
        "  geom_col(fill = \"lightblue\") +\n",
        "  coord_flip() +\n",
        "  labs(\n",
        "    title = \"Standardized Beta Coefficients from Multiple Regression\",\n",
        "    x = \"Predictor\",\n",
        "    y = \"Standardized Coefficient\"\n",
        "  ) +\n",
        "  theme_minimal() +\n",
        "   theme(\n",
        "    panel.background = element_rect(fill = \"#F9F9F9\", color = NA),\n",
        "    plot.background = element_rect(fill = \"#F9F9F9\", color = NA),\n",
        "    panel.grid.major = element_blank(),\n",
        "    panel.grid.minor = element_blank(),\n",
        "    axis.ticks.y = element_line(color = \"black\"),\n",
        "    axis.text.y = element_text(size = 15),\n",
        "    axis.title = element_text(size = 15),\n",
        "    plot.title = element_text(size = 15, hjust = 0.5),\n",
        "    plot.margin = margin(t = 20, r = 10, b = 10, l = 10)\n",
        "   )\n"
      ],
      "metadata": {
        "colab": {
          "base_uri": "https://localhost:8080/",
          "height": 437
        },
        "collapsed": true,
        "id": "2rePFIyle9qg",
        "outputId": "44a5a8a8-4974-4166-eb5a-118393dd0b5a"
      },
      "execution_count": null,
      "outputs": [
        {
          "output_type": "display_data",
          "data": {
            "text/plain": [
              "plot without title"
            ],
            "image/png": "[encoded data removed]"
          },
          "metadata": {
            "image/png": {
              "width": 420,
              "height": 420
            }
          }
        }
      ]
    },
    {
      "cell_type": "code",
      "source": [
        "ggsave(\"plot.pdf\",\n",
        "       plot = last_plot(),\n",
        "       width = 10,\n",
        "       height = 6,\n",
        "       units = \"in\")"
      ],
      "metadata": {
        "id": "w4bci1zvrv0X"
      },
      "execution_count": null,
      "outputs": []
    }
  ]
}